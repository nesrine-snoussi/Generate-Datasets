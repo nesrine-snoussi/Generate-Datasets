{
 "cells": [
  {
   "cell_type": "code",
   "execution_count": 1,
   "id": "14accf24-3cd0-4cd6-9a87-7453969c668c",
   "metadata": {},
   "outputs": [
    {
     "name": "stdout",
     "output_type": "stream",
     "text": [
      "CSV file created successfully.\n"
     ]
    }
   ],
   "source": [
    "import csv\n",
    "\n",
    "hard_skills = [\n",
    "    \"Active Directory\", \"Cloud Security\", \"Ethical Hacking\", \"Linux\", \"Malware Analysis\", \"Network Security\", \"Risk Management\", \"Server Administration\", \"System Administration\", \"Virtualization\",\n",
    "    \"Data Analysis\", \"Project Management Skills\", \"Foreign Language Proficiency\", \"Software Development\", \"Digital Marketing\", \"Machine Learning/AI\",\n",
    "    \"Algorithm Design\", \"Application Programming Interfaces (APIs)\", \"C#\", \"Database Design\", \"Debugging\", \"Docker\", \"Git\", \"JavaScript\", \"Mobile Application Development\", \"Perl\", \"Quality Assurance (QA)\", \"Scala\", \"Scripting Languages\", \"Swift\", \"Version Control Systems (VCS)\",\n",
    "    \"Technical Writing\", \"Cloud Computing\", \"Salesforce Proficiency\", \"Cybersecurity\",\n",
    "    \"Customer relationship management (CRM) software\", \"Management skills\", \"Sales experience\", \"Recruiting\", \"Software development\", \"Software engineering\", \"Computer science\", \"Basic life support\", \"Budget management\", \"Advanced cardiac life support\",\n",
    "    \"Microsoft Office software\", \"SQL\", \"Python\", \"Oracle Java\", \"Amazon Web Services (AWS) software\", \"JavaScript\", \"SAP software\", \"Microsoft Azure software\", \"Microsoft Access\", \"Linux\", \"HTML\", \"Atlassian JIRA\",\n",
    "    \"Cloud Architecture\", \"Storage and Data Management\", \"Networking Communication\", \"Cloud Middleware Technologies\", \"Cloud Applications, such as JSON, Rest, and RPC\",\n",
    "    \"Agile methodologies such as Scrum\", \"Project management software such as Trello and Zoho\", \"PMP certification\", \"Risk management\", \"Strategic planning\", \"Project lifecycle management\", \"Budgeting\",\n",
    "    \"Encryption algorithms\", \"Authentication systems\", \"Risk assessment\", \"Cryptography\", \"Virtual and host-based firewalls\", \"Incident response\", \"Network monitoring software like Wireshark and Nagios\", \"Virus protection software like Ping Identity, Portswigger BurP Suite, and Symantec\",\n",
    "    \"Microsoft Office Suite and Google Drive Suite\", \"Social media\", \"Pivot tables\", \"Trello\", \"Zoom\", \"Machine learning\", \"Natural language processing\", \"Blockchain\", \"HTML, Javascript, CSS\", \"Swift, Python, Perl, XML\", \"SAS, MySQL, Apache\",\n",
    "    \"Data mining\", \"Data presentation\", \"Resource management\", \"Data engineering\", \"Database management\", \"Data-driven decision making\", \"Reporting\", \"Diagnostics\",\n",
    "    \"Search engine optimization (SEO)\", \"Search engine marketing (SEM)\", \"Marketing campaign management\", \"Google Analytics and Google Search Console\", \"Content management systems (CMS), such as WordPress\", \"A/B testing\", \"Ahrefs, SEMrush, PageOptimizer Pro\", \"PPC\", \"MailChimp\",\n",
    "    \"Software Revision Control Systems\", \"Android Development\", \"iOS App Development\", \"Web Architecture and Development Framework\", \"Angular and Node Apps\", \"Swift, C#, Java, Objective-C\",\n",
    "    \"Learning management systems, such as Blackboard, Canvas, or Eagle\", \"Data management systems such as Colleague\", \"Healthcare related licenses\", \"Certificates, awards, badges, and industry-recognized credentials\",\n",
    "    \"Email writing\", \"Copywriting\", \"Copyediting (grammar, flow, syntax, spelling, punctuation)\", \"Content management\", \"Grant writing\", \"Storytelling\", \"Storyboarding\", \"Writing press releases\", \"Report writing\", \"Formal presentations\", \"Investigative journalism\", \"SEO copywriting\",\n",
    "    \"Copywriting\", \"Smart contract development\", \"Statistical analysis and data mining\", \"Cashier skills\", \"HTML/CSS/Javascript\", \"Video editing\", \"User interface design\", \"Language skills\", \"Social media\", \"Graphic design\", \"Project management\", \"Computer troubleshooting\", \"Accounting\", \"Business and data analysis\", \"Patient care\", \"Macro/Micro economics\", \"Server maintenance\", \"Automotive services, parts, and design\", \"Marketing skills (SEO/SEM)\", \"Cloud and distributed computing\", \"Database management\", \"Electronic and electrical engineering\", \"Civil engineering\", \"Photo editing\"\n",
    "]\n",
    "\n",
    "with open('it_hard_skills.csv', mode='w', newline='') as file:\n",
    "    writer = csv.writer(file)\n",
    "    writer.writerow([\"Hard Skill\"]) ",
    "\n",
    "    for skill in hard_skills:\n",
    "        writer.writerow([skill])\n",
    "\n",
    "print(\"CSV file created successfully.\")\n"
   ]
  },
  {
   "cell_type": "code",
   "execution_count": null,
   "id": "ac4c9bfb-10c1-44c2-b19c-5669d9ea9c41",
   "metadata": {},
   "outputs": [],
   "source": []
  },
  {
   "cell_type": "code",
   "execution_count": 3,
   "id": "45f3955e-4511-4c0f-96a0-f2eff79bc5cc",
   "metadata": {},
   "outputs": [
    {
     "name": "stdout",
     "output_type": "stream",
     "text": [
      "     Matrix_index                                           Skill  \\\n",
      "0             0.0                       a team oriented mentality   \n",
      "1             1.0                 ability for analytical thinking   \n",
      "2             2.0                  ability for long working hours   \n",
      "3             3.0  ability for multitasking under tight deadlines   \n",
      "4             4.0                 ability for results orientation   \n",
      "..            ...                                             ...   \n",
      "976           NaN                                             NaN   \n",
      "977           NaN                                             NaN   \n",
      "978           NaN                                             NaN   \n",
      "979           NaN                                             NaN   \n",
      "980           NaN                                             NaN   \n",
      "\n",
      "                                Hard Skill  \n",
      "0                                      NaN  \n",
      "1                                      NaN  \n",
      "2                                      NaN  \n",
      "3                                      NaN  \n",
      "4                                      NaN  \n",
      "..                                     ...  \n",
      "976        Cloud and distributed computing  \n",
      "977                    Database management  \n",
      "978  Electronic and electrical engineering  \n",
      "979                      Civil engineering  \n",
      "980                          Photo editing  \n",
      "\n",
      "[981 rows x 3 columns]\n"
     ]
    }
   ],
   "source": [
    "import pandas as pd\n",
    "\n",
    
    "hard_skills_df = pd.read_csv('skills_index_final.csv')\n",
    "\n",
    "soft_skills_df = pd.read_csv('it_hard_skills.csv')\n",
    "\n",
    "# Merge the two datasets vertically\n",
    "merged_df = pd.concat([hard_skills_df, soft_skills_df], ignore_index=True)\n",
    "\n",
    "print(merged_df)\n",
    "\n",
    "merged_df.to_csv('merged_skills.csv', index=False)\n",
    "\n"
   ]
  },
  {
   "cell_type": "code",
   "execution_count": null,
   "id": "46b51d09-5351-413e-ad39-e5b470c4f7a2",
   "metadata": {},
   "outputs": [],
   "source": []
  }
 ],
 "metadata": {
  "kernelspec": {
   "display_name": "Python 3 (ipykernel)",
   "language": "python",
   "name": "python3"
  },
  "language_info": {
   "codemirror_mode": {
    "name": "ipython",
    "version": 3
   },
   "file_extension": ".py",
   "mimetype": "text/x-python",
   "name": "python",
   "nbconvert_exporter": "python",
   "pygments_lexer": "ipython3",
   "version": "3.11.7"
  }
 },
 "nbformat": 4,
 "nbformat_minor": 5
}
